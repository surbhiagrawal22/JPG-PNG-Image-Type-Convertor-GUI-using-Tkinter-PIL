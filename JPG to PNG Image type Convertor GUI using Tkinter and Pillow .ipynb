{
 "cells": [
  {
   "cell_type": "code",
   "execution_count": null,
   "metadata": {
    "ExecuteTime": {
     "end_time": "2021-01-07T21:42:10.715860Z",
     "start_time": "2021-01-07T21:41:57.632Z"
    }
   },
   "outputs": [],
   "source": [
    "import tkinter as tk \n",
    "from PIL import Image\n",
    "from tkinter import filedialog\n",
    "from tkinter import messagebox\n"
   ]
  },
  {
   "cell_type": "code",
   "execution_count": null,
   "metadata": {
    "ExecuteTime": {
     "end_time": "2021-01-07T21:42:10.717233Z",
     "start_time": "2021-01-07T21:42:07.365Z"
    }
   },
   "outputs": [],
   "source": [
    "window = tk.Tk(screenName=\"Online Tool Converter\")\n",
    "frame=tk.Frame()\n",
    "\n",
    "label = tk.Label(master=frame,\n",
    "                 background=\"black\", borderwidth=6,  font=\"arial\", foreground=\"white\",\n",
    "                 relief=\"raised\",  text=\"Online Tool Converter\",\n",
    "                 underline=True)\n",
    "\n",
    "\n",
    "def select_image():\n",
    "    global image1\n",
    "    imagepath = filedialog.askopenfilename(defaultextension='.jpg')\n",
    "    image1 = Image.open(imagepath)\n",
    "  \n",
    "\n",
    "def convert_image():\n",
    "    global image1\n",
    "    save_path = filedialog.asksaveasfilename(defaultextension='.png')\n",
    "    image1.save(save_path)\n",
    "\n",
    "\n",
    "button = tk.Button(master=frame,font=('helvetica', 12, 'bold'),\n",
    "                   text=\"Select Image File to convert\",\n",
    "                   underline=True, command=select_image,  height=15, width=50, relief=\"raised\", borderwidth=10,bg=\"white\",fg=\"dark blue\")\n",
    "\n",
    "button1 = tk.Button(master=frame,\n",
    "                    font=('helvetica', 12, 'bold'),\n",
    "                    text=\"Save a File\",\n",
    "                    underline=True, command=convert_image, height=15, width=50, relief=\"raised\", borderwidth=10,bg=\"white\",fg=\"dark blue\")\n",
    "\n",
    "label.pack()\n",
    "button.pack()\n",
    "button1.pack()\n",
    "frame.pack()\n",
    "window.mainloop()"
   ]
  },
  {
   "cell_type": "code",
   "execution_count": null,
   "metadata": {},
   "outputs": [],
   "source": []
  },
  {
   "cell_type": "code",
   "execution_count": null,
   "metadata": {},
   "outputs": [],
   "source": []
  }
 ],
 "metadata": {
  "kernelspec": {
   "display_name": "Python 3",
   "language": "python",
   "name": "python3"
  },
  "toc": {
   "base_numbering": 1,
   "nav_menu": {},
   "number_sections": true,
   "sideBar": true,
   "skip_h1_title": false,
   "title_cell": "Table of Contents",
   "title_sidebar": "Contents",
   "toc_cell": false,
   "toc_position": {},
   "toc_section_display": true,
   "toc_window_display": false
  }
 },
 "nbformat": 4,
 "nbformat_minor": 4
}
